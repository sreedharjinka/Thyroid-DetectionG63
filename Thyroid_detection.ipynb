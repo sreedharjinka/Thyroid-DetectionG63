{
  "nbformat": 4,
  "nbformat_minor": 0,
  "metadata": {
    "colab": {
      "provenance": [],
      "toc_visible": true
    },
    "kernelspec": {
      "name": "python3",
      "display_name": "Python 3"
    },
    "language_info": {
      "name": "python"
    }
  },
  "cells": [
    {
      "cell_type": "markdown",
      "source": [
        "# Changing catergoral variables\n"
      ],
      "metadata": {
        "id": "lZiuzDdAYbA8"
      }
    },
    {
      "cell_type": "code",
      "source": [
        "import pandas as pd\n",
        "import numpy as np\n",
        "\n",
        "df = pd.read_csv(\"thyroid.csv\")\n",
        "\n",
        "#replacing '?'\n",
        "df = df.applymap(lambda x: np.nan if str(x).strip() == '?' else x)\n",
        "\n",
        "#removing unecessary columns\n",
        "df.drop(['TSH measured','T3 measured','TT4 measured','T4U measured',\n",
        "         'FTI measured'],axis = 1,inplace = True)\n",
        "\n",
        "#replacing categorial variable with a continuous value in a missing value column\n",
        "df.sex.replace({'F': 1, 'M': 0}, inplace = True)\n",
        "df.sex.fillna(round(df.sex.mean()),inplace = True)\n",
        "\n",
        "df.isnull().sum()"
      ],
      "metadata": {
        "id": "hZshegz6UpB6",
        "colab": {
          "base_uri": "https://localhost:8080/"
        },
        "outputId": "c4db67f0-756a-4f11-8169-fd11cd0b58d4"
      },
      "execution_count": 23,
      "outputs": [
        {
          "output_type": "execute_result",
          "data": {
            "text/plain": [
              "age                             0\n",
              "sex                             0\n",
              "on thyroxine                    0\n",
              "query on thyroxine              0\n",
              "on antithyroid medication       0\n",
              "sick                            0\n",
              "pregnant                        0\n",
              "thyroid surgery                 0\n",
              "I131 treatment                  0\n",
              "query hypothyroid               0\n",
              "query hyperthyroid              0\n",
              "lithium                         0\n",
              "goitre                          0\n",
              "tumor                           0\n",
              "hypopituitary                   0\n",
              "psych                           0\n",
              "TSH                           852\n",
              "T3                           1755\n",
              "TT4                           552\n",
              "T4U                           891\n",
              "FTI                           885\n",
              "results                         0\n",
              "dtype: int64"
            ]
          },
          "metadata": {},
          "execution_count": 23
        }
      ]
    },
    {
      "cell_type": "markdown",
      "source": [
        "# Data Augmentation\n"
      ],
      "metadata": {
        "id": "PUpJoYW0ASBJ"
      }
    },
    {
      "cell_type": "code",
      "source": [
        "from sklearn.impute import KNNImputer\n",
        "\n",
        "\n",
        "cols = ['TSH', 'T3', 'TT4', 'T4U', 'FTI']\n",
        "\n",
        "# Applying KNN imputation to fill missing values\n",
        "knn_imputer = KNNImputer(n_neighbors=25)\n",
        "df[cols] = knn_imputer.fit_transform(df[cols])\n"
      ],
      "metadata": {
        "id": "JxjRfXCdUyRj"
      },
      "execution_count": 24,
      "outputs": []
    },
    {
      "cell_type": "markdown",
      "source": [
        "# Filling missing values"
      ],
      "metadata": {
        "id": "nctodrGzAjj4"
      }
    },
    {
      "cell_type": "code",
      "source": [
        "from imblearn.over_sampling import RandomOverSampler\n",
        "\n",
        "X = df.drop('results', axis=1)\n",
        "y = df['results']\n",
        "\n",
        "oversampler = RandomOverSampler(sampling_strategy='not majority', random_state=100)\n",
        "\n",
        "# Resampling the dataset to balance\n",
        "X_resampled, y_resampled = oversampler.fit_resample(X, y)\n",
        "\n",
        "# Creating a new dataframe\n",
        "augmented_data = pd.concat([X_resampled, y_resampled], axis=1)\n",
        "\n",
        "augmented_data.to_csv(\"thyroid_balanced_new.csv\")"
      ],
      "metadata": {
        "id": "vk0bWqBaUrut"
      },
      "execution_count": 25,
      "outputs": []
    }
  ]
}